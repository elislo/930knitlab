{
 "cells": [
  {
   "cell_type": "markdown",
   "id": "baef0e6b",
   "metadata": {},
   "source": [
    "# Image Processing for AYAB"
   ]
  },
  {
   "cell_type": "markdown",
   "id": "8dcec822",
   "metadata": {},
   "source": [
    "The AYAB project is open source, but I use a couple of proprietary things for making my charts. Since I own an iPad with Apple Pencil, I use the paid app Knitting Chart to do the design and most of the manipulation for my charts. I only use GIMP to set the 2-color index. In Knitting Chart, I use light pastels to represent background because they are easier to see and will be converted to white. Every step I do in Knitting Chart can be completed in GIMP.\n",
    "\n",
    "As far as I know, the bitmap designs and punchcard designs are identical."
   ]
  },
  {
   "cell_type": "markdown",
   "id": "a3085a73",
   "metadata": {},
   "source": [
    "## Single Bed Fair Isle\n",
    "\n",
    "These are the simplest charts. For two colors per row, the white is the background and the black is the contrast color. These are threaded into A and B, respectively, on the K-carriage."
   ]
  },
  {
   "cell_type": "code",
   "execution_count": null,
   "id": "ce344bc3",
   "metadata": {},
   "outputs": [],
   "source": [
    "#from IPython import display\n",
    "#display.Image(\"URL-to-image\")"
   ]
  },
  {
   "cell_type": "markdown",
   "id": "4292cad1",
   "metadata": {},
   "source": [
    "In order to avoid lots of yarn ends to weave in, it is helpful to keep in mind where yarns will be. For example, a plain row will carry the contrast yarn along with it, potentially creating a float the full width of the piece. Avoid this either by cutting the contrast yarn to restart it on the other side, or by editing the pattern to avoid this situation all together."
   ]
  },
  {
   "cell_type": "markdown",
   "id": "9b7fb955",
   "metadata": {},
   "source": [
    "The finished piece of knitting will be more stable and comfortable if floats are limited to about 5 st or 1 in (2.5 cm). There are a couple of strategies for managing longer floats:\n",
    "|Strategy | Possible Pitfal|\n",
    "|:------- |:-------|\n",
    "|Catch floats by lifting them on to the needle centered above the float|Can show from the front|\n",
    "|Latch floats up the back |Can distort the fabric as the ladder pulls floats tight |\n",
    "|Alter the design to reduce the length of floats| Requires changing the design|\n",
    "|Alter the design for slip stitch with color changer for | Requires changing the design and a color changer|\n",
    "|Sew floats down by hand |Good for after the fact or missed floats|"
   ]
  },
  {
   "cell_type": "markdown",
   "id": "0de7bd10",
   "metadata": {},
   "source": [
    "## Lace Chart\n",
    "\n",
    "I struggle with understanding exactly how this works, but the ayab manual has a pretty good explanation"
   ]
  },
  {
   "cell_type": "markdown",
   "id": "89086800",
   "metadata": {},
   "source": [
    "## Tuck Stitch Chart"
   ]
  },
  {
   "cell_type": "markdown",
   "id": "96d45143",
   "metadata": {},
   "source": [
    "## KRC Color Changer and Double Bed Jacquard Charts"
   ]
  },
  {
   "cell_type": "markdown",
   "id": "82677350",
   "metadata": {},
   "source": [
    "## 3-Color Jacquard"
   ]
  },
  {
   "cell_type": "markdown",
   "id": "e9c26efe",
   "metadata": {},
   "source": [
    "![alternatvie text](https://github.com/AllYarnsAreBeautiful/ayab-patterns/blob/main/kh910/1.05.png)"
   ]
  },
  {
   "cell_type": "raw",
   "id": "eff5d37e",
   "metadata": {},
   "source": [
    "Haffenden, V. (2023). Single and Double Bed Machine Knitting: The Designers Guide. United Kingdom: Crowood Press."
   ]
  }
 ],
 "metadata": {
  "kernelspec": {
   "display_name": "Python 3 (ipykernel)",
   "language": "python",
   "name": "python3"
  },
  "language_info": {
   "codemirror_mode": {
    "name": "ipython",
    "version": 3
   },
   "file_extension": ".py",
   "mimetype": "text/x-python",
   "name": "python",
   "nbconvert_exporter": "python",
   "pygments_lexer": "ipython3",
   "version": "3.11.2"
  }
 },
 "nbformat": 4,
 "nbformat_minor": 5
}
