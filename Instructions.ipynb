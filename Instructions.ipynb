{
 "cells": [
  {
   "cell_type": "markdown",
   "id": "9f6f75ef",
   "metadata": {},
   "source": [
    "# General Instructions\n",
    "I get mixed up trying to refer to multiple manuals and patterns so I'm collecting the information here."
   ]
  },
  {
   "cell_type": "markdown",
   "id": "807f8f76",
   "metadata": {},
   "source": [
    "## Setting up the KH930 with AYAB\n",
    "1. Make sure the KH930 is unplugged from AC power.\n",
    "2. Remove the right top cover followed by the left top cover.\n",
    "3. Carefully unplug connectors from the main board and plug them into the corresponding ports on the AYAB Shield.\n",
    "4. Plug USB cable from AYAB into the RPi.\n",
    "5. Boot Rpi. (AYAB communicates over serial port not easily ejectable USB so I try to only unplug it when the Rpi is off. I have no idea how important this actually is.)"
   ]
  },
  {
   "cell_type": "markdown",
   "id": "20c417f3",
   "metadata": {},
   "source": [
    "## Knitting a Flat Swatch\n",
    "A swatch that is 60 st wide (30L/30R) fits the small cast on comb nicely and is wide enough to measure gauge.\n",
    "\n",
    "### Quick Cast On\n",
    "1. Push 60 needles (30L/30R) into working position.\n",
    "2. Use the 1x1 pusher to push every other needle out of work starting with 29L.\n",
    "3. Thread yarn through yarn mast and knitting carriage. Select N-L COL.\n",
    "4. Engage both weaving brushes.\n",
    "5. Move threaded carriage from left to right.\n",
    "6. Disengage both weaving brushes.\n",
    "7. Hang cast on comb with a couple weights.\n",
    "8. Push all needles 30L/30R to working position.\n",
    "9. Knit 8-10 rows.\n",
    "10. Ready to select and load pattern."
   ]
  },
  {
   "cell_type": "markdown",
   "id": "d9e3f60d",
   "metadata": {},
   "source": [
    "### Open AYAB\n",
    "\n",
    "Open a terminal window and run:\n",
    "\n",
    "```\n",
    "cd ayab-knitting\n",
    "source venv/bin/activate #relevent virtual environment here\n",
    "fbs run\n",
    "```\n",
    "\n",
    "#### Reminder about Change Knob:\n",
    "CR: Carriage Release\n",
    "KC(I): Edge needles are always selected to B or D position\n",
    "KC(II): Edge needles are worked according pattern\n",
    "N-L: Normal-Lace for stockinette, some lace patterns, intarsia\n"
   ]
  },
  {
   "cell_type": "markdown",
   "id": "dd27fb0f",
   "metadata": {},
   "source": [
    "## Fair-Isle/Stranded Colorwork Patterns\n",
    "Set up for 2-color knitting\n",
    "\n"
   ]
  },
  {
   "cell_type": "markdown",
   "id": "70bb23fc",
   "metadata": {},
   "source": [
    "## Lace Pattern \n",
    "Note: lace knits better when the knitting bed is parallel to the floor--use the flat clamps or tilt the work table."
   ]
  },
  {
   "cell_type": "markdown",
   "id": "f67b879d",
   "metadata": {},
   "source": [
    "## Tuck Stitch Pattern"
   ]
  },
  {
   "cell_type": "markdown",
   "id": "3de937e6",
   "metadata": {},
   "source": [
    "## Ribber Cast On--Avoid wavy hems\n",
    "\n",
    "https://youtu.be/4lhVlrcXbD0?si=30UCh1G8fBwXVjZo This video has a helpful explanation of this technique.\n",
    "\n",
    "1. Cast On & knit about an inch with waste yarn.\n",
    "2. Circular knit 1 round with ravel cord (opposing part buttons selected)\n",
    "3. zig-zag cast on main yarn\n",
    "4. knit 2 rounds circularly\n",
    "5. knit desired length of ribbing\n",
    "6. transfer st to main bed as needed."
   ]
  }
 ],
 "metadata": {
  "kernelspec": {
   "display_name": "Python 3 (ipykernel)",
   "language": "python",
   "name": "python3"
  },
  "language_info": {
   "codemirror_mode": {
    "name": "ipython",
    "version": 3
   },
   "file_extension": ".py",
   "mimetype": "text/x-python",
   "name": "python",
   "nbconvert_exporter": "python",
   "pygments_lexer": "ipython3",
   "version": "3.11.2"
  }
 },
 "nbformat": 4,
 "nbformat_minor": 5
}
